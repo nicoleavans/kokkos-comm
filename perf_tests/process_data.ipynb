{
 "cells": [
  {
   "cell_type": "code",
   "execution_count": null,
   "metadata": {},
   "outputs": [],
   "source": [
    "import json\n",
    "# import numpy as np\n",
    "import pandas as pd\n",
    "import matplotlib.pyplot as plt\n",
    "import seaborn as sbrn\n",
    "# from matplotlib.colors import LogNorm\n",
    "# import sys\n",
    "# import os \n",
    "sbrn.set_context('paper')\n",
    "fontsize = 13\n",
    "custom = {\"axes.edgecolor\": \"black\",\"grid.linestyle\": \"dashed\", \"grid.color\": \"gray\"}\n",
    "sbrn.set_style(\"whitegrid\", rc = custom)"
   ]
  },
  {
   "cell_type": "code",
   "execution_count": null,
   "metadata": {},
   "outputs": [],
   "source": [
    "# Open the JSON file for reading\n",
    "with open('data.json', 'r') as file:\n",
    "    data = json.load(file)"
   ]
  },
  {
   "cell_type": "code",
   "execution_count": null,
   "metadata": {},
   "outputs": [],
   "source": [
    "# Initialize a list to store the extracted data\n",
    "extracted_data = []"
   ]
  },
  {
   "cell_type": "code",
   "execution_count": null,
   "metadata": {},
   "outputs": [],
   "source": [
    "# Loop through the benchmarks in the JSON data\n",
    "for benchmark in data['benchmarks']:\n",
    "    # Extract the relevant information\n",
    "    name = benchmark['name']\n",
    "    real_time = benchmark['real_time']\n",
    "    bytes = benchmark['bytes']\n",
    "    \n",
    "    # Determine the communication type from the name\n",
    "    if 'KokkosComm' in name:\n",
    "        comm_type = 'KokkosComm'\n",
    "    elif 'MPI' in name:\n",
    "        comm_type = 'MPI'\n",
    "    else:\n",
    "        continue  # Skip if neither\n",
    "    \n",
    "    # Append the extracted information to the list\n",
    "    extracted_data.append({'comm_type': comm_type, 'real_time': real_time, 'bytes': bytes})\n"
   ]
  },
  {
   "cell_type": "code",
   "execution_count": null,
   "metadata": {},
   "outputs": [],
   "source": [
    "# Convert the list to a pandas DataFrame\n",
    "df = pd.DataFrame(extracted_data)"
   ]
  },
  {
   "cell_type": "code",
   "execution_count": null,
   "metadata": {},
   "outputs": [],
   "source": [
    "# Plotting\n",
    "plt.figure(figsize=(10, 6))\n",
    "sbrn.lineplot(data=df, x='bytes', y='real_time', hue='comm_type', marker='o')\n",
    "\n",
    "plt.title('Latency Comparison: MPI vs KokkosComm', fontsize=fontsize+2)\n",
    "plt.xlabel('Bytes', fontsize=fontsize)\n",
    "plt.ylabel('Real Time (us)', fontsize=fontsize)\n",
    "plt.xticks(fontsize=fontsize-1)\n",
    "plt.yticks(fontsize=fontsize-1)\n",
    "plt.legend(title='Communication Type', fontsize=fontsize-1)\n",
    "plt.grid(True)\n",
    "\n",
    "plt.savefig(\"./test.png\", dpi=300)\n",
    "plt.show()"
   ]
  },
  {
   "cell_type": "code",
   "execution_count": null,
   "metadata": {},
   "outputs": [],
   "source": [
    "import matplotlib.ticker as ticker\n",
    "\n",
    "# Plotting\n",
    "plt.figure(figsize=(10, 6))\n",
    "sbrn.lineplot(data=df, x='bytes', y='real_time', hue='comm_type', marker='o')\n",
    "\n",
    "plt.title('Latency Comparison: MPI vs KokkosComm', fontsize=fontsize+2)\n",
    "plt.xlabel('Bytes', fontsize=fontsize)\n",
    "plt.ylabel('Real Time (us)', fontsize=fontsize)\n",
    "plt.xticks(fontsize=fontsize-1)\n",
    "plt.yticks(fontsize=fontsize-1)\n",
    "plt.legend(title='Communication Type', fontsize=fontsize-1)\n",
    "plt.grid(True)\n",
    "\n",
    "# Set x-axis to logarithmic scale\n",
    "plt.xscale('log')\n",
    "\n",
    "# Custom tick labels for the x-axis\n",
    "tick_vals = [1, 10, 100, 1e3, 1e4, 1e5, 1e6, 1e7, 32e6]\n",
    "tick_labels = ['1B', '10B', '100B', '1KB', '10KB', '100KB', '1MB', '10MB', '32MB']\n",
    "plt.xticks(tick_vals, tick_labels)\n",
    "\n",
    "# Optional: Rotate the x-axis tick labels for better readability\n",
    "plt.xticks(rotation=45)\n",
    "\n",
    "plt.savefig(\"./test2.png\", dpi=300)\n",
    "plt.show()"
   ]
  }
 ],
 "metadata": {
  "language_info": {
   "name": "python"
  }
 },
 "nbformat": 4,
 "nbformat_minor": 2
}
